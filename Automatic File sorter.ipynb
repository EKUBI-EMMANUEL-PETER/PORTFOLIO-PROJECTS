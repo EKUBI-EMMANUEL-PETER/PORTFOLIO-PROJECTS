{
 "cells": [
  {
   "cell_type": "markdown",
   "id": "341c2208",
   "metadata": {},
   "source": [
    "# AUTOMATIC FILE EXPLORER\n"
   ]
  },
  {
   "cell_type": "code",
   "execution_count": 81,
   "id": "a823258a",
   "metadata": {},
   "outputs": [],
   "source": [
    "import os, shutil"
   ]
  },
  {
   "cell_type": "code",
   "execution_count": 61,
   "id": "4348b9fb",
   "metadata": {},
   "outputs": [],
   "source": [
    "path = r\"C:/Users/MANUEL-PC/Pictures/helen/\""
   ]
  },
  {
   "cell_type": "code",
   "execution_count": 80,
   "id": "1755d68a",
   "metadata": {},
   "outputs": [],
   "source": [
    "file_name = os.listdir(path)"
   ]
  },
  {
   "cell_type": "markdown",
   "id": "59003c9d",
   "metadata": {},
   "source": [
    "os.path.exists(path  +  \"csv files\")"
   ]
  },
  {
   "cell_type": "code",
   "execution_count": 83,
   "id": "87a3fd06",
   "metadata": {},
   "outputs": [],
   "source": [
    "folder_names = [\"jpg files\", \"video files\", \"doc file\"]\n",
    "\n",
    "for loop in range(0,3):\n",
    "     if not os.path.exists(path + folder_names[loop]):\n",
    "        print(path + folder_names[loop])\n",
    "        os.makedirs(path  + folder_names[loop])\n",
    "        \n",
    "        \n",
    "for file in file_name:\n",
    "    if   \".jpg\" in file and not os.path.exists(path + \"jpg files/\"+ file):\n",
    "        shutil.move(path + file, path + \"jpg files/\"+ file)\n",
    "    elif \".mp4\" in file and not os.path.exists(path + \"/\"+ file):\n",
    "        shutil.move(path + file, path + \"video files/\"+ file)\n",
    "    elif \".docx\" in file and not os.path.exists(path + \"doc file/\"+ file):\n",
    "        shutil.move(path + file, path + \"doc file/\"+ file)\n"
   ]
  },
  {
   "cell_type": "code",
   "execution_count": 68,
   "id": "bcb248fa",
   "metadata": {},
   "outputs": [],
   "source": []
  },
  {
   "cell_type": "code",
   "execution_count": null,
   "id": "b787fbfc",
   "metadata": {},
   "outputs": [],
   "source": []
  },
  {
   "cell_type": "code",
   "execution_count": null,
   "id": "b4ce2c76",
   "metadata": {},
   "outputs": [],
   "source": []
  },
  {
   "cell_type": "code",
   "execution_count": null,
   "id": "592b1a4b",
   "metadata": {},
   "outputs": [],
   "source": []
  }
 ],
 "metadata": {
  "kernelspec": {
   "display_name": "Python 3 (ipykernel)",
   "language": "python",
   "name": "python3"
  },
  "language_info": {
   "codemirror_mode": {
    "name": "ipython",
    "version": 3
   },
   "file_extension": ".py",
   "mimetype": "text/x-python",
   "name": "python",
   "nbconvert_exporter": "python",
   "pygments_lexer": "ipython3",
   "version": "3.10.9"
  }
 },
 "nbformat": 4,
 "nbformat_minor": 5
}
