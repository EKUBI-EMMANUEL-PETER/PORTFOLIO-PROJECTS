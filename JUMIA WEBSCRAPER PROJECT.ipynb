{
 "cells": [
  {
   "cell_type": "code",
   "execution_count": 6,
   "id": "20961a84",
   "metadata": {},
   "outputs": [],
   "source": [
    "# IMPORT LIBRARIES\n",
    "\n",
    "from bs4 import BeautifulSoup\n",
    "import requests\n",
    "import time\n",
    "import datetime\n",
    "\n",
    "import smtplib"
   ]
  },
  {
   "cell_type": "code",
   "execution_count": 30,
   "id": "93141c75",
   "metadata": {},
   "outputs": [
    {
     "name": "stdout",
     "output_type": "stream",
     "text": [
      "\n",
      "           Summer Men's Loose Short Sleeve Hawaii Beach Shirt - Blue\n",
      "          \n",
      "\n",
      "            ₦ 2,900\n",
      "           \n"
     ]
    }
   ],
   "source": [
    "# connect to website\n",
    "\n",
    "URL = \"https://www.jumia.com.ng/fashion-summer-mens-loose-short-sleeve-hawaii-beach-shirt-blue-71890063.html\"\n",
    "\n",
    "headers = {\"User-Agent\": \"Mozilla/5.0 (Windows NT 10.0; Win64; x64) AppleWebKit/537.36 (KHTML, like Gecko) Chrome/112.0.0.0 Safari/537.36\"}\n",
    "\n",
    "page = requests.get(URL, headers=headers)\n",
    "\n",
    "soup1 = BeautifulSoup(page.content, \"html.parser\")\n",
    "\n",
    "soup2 = BeautifulSoup(soup1.prettify(),\"html.parser\")\n",
    "\n",
    "\n",
    "\n",
    "title = soup2.find( class_=\"-fs20 -pts -pbxs\").get_text()\n",
    "\n",
    "price = soup2.find( class_=\"-b -ltr -tal -fs24\").get_text()\n",
    "\n",
    "\n",
    "\n",
    "print(title)\n",
    "print(price)\n",
    "\n",
    "\n",
    "\n",
    "\n",
    "\n"
   ]
  },
  {
   "cell_type": "code",
   "execution_count": 37,
   "id": "2c4662b9",
   "metadata": {},
   "outputs": [
    {
     "name": "stdout",
     "output_type": "stream",
     "text": [
      "2023-04-28\n"
     ]
    }
   ],
   "source": [
    "import datetime\n",
    "\n",
    "today = datetime.date.today()\n",
    "\n",
    "print(today)"
   ]
  },
  {
   "cell_type": "code",
   "execution_count": 32,
   "id": "04aa69ec",
   "metadata": {},
   "outputs": [
    {
     "name": "stdout",
     "output_type": "stream",
     "text": [
      "Summer Men's Loose Short Sleeve Hawaii Beach Shirt - Blue\n",
      " 2,900\n"
     ]
    }
   ],
   "source": [
    "price = price.strip()[1:]\n",
    "\n",
    "title = title.strip()\n",
    "\n",
    "\n",
    "print(title)\n",
    "print(price)"
   ]
  },
  {
   "cell_type": "code",
   "execution_count": 39,
   "id": "307ec197",
   "metadata": {},
   "outputs": [],
   "source": [
    "import csv \n",
    "header = [\"title\", \"price\",\"date\"]\n",
    "data = [title,price,today]\n",
    "\n",
    "#with open(\"JUMIA_WebScraperDataset.csv\",\"w\", newline=\"\",encoding = \"utf8\") as f:\n",
    "    #writer = csv.writer(f)\n",
    "    #writer.writerow(header)\n",
    "    #writer.writerow(data)\n",
    "\n",
    "\n",
    "\n",
    "\n"
   ]
  },
  {
   "cell_type": "code",
   "execution_count": 44,
   "id": "aac178f3",
   "metadata": {},
   "outputs": [
    {
     "name": "stdout",
     "output_type": "stream",
     "text": [
      "                                               title   price        date\n",
      "0  Summer Men's Loose Short Sleeve Hawaii Beach S...   2,900  2023-04-28\n",
      "1  Summer Men's Loose Short Sleeve Hawaii Beach S...   2,900  2023-04-28\n",
      "2  Summer Men's Loose Short Sleeve Hawaii Beach S...   2,900  2023-04-28\n"
     ]
    }
   ],
   "source": [
    "import pandas as pd \n",
    "\n",
    "df =pd.read_csv(r\"C:\\Users\\MANUEL-PC\\JUMIA_WebScraperDataset.csv\")\n",
    "\n",
    "print(df)"
   ]
  },
  {
   "cell_type": "code",
   "execution_count": 43,
   "id": "8b0b572d",
   "metadata": {},
   "outputs": [],
   "source": [
    "#now we are going to append data to the csv\n",
    "\n",
    "with open(\"JUMIA_WebScraperDataset.csv\",\"a+\", newline=\"\",encoding = \"utf8\") as f:\n",
    "    writer = csv.writer(f)\n",
    "    writer.writerow(data)\n"
   ]
  },
  {
   "cell_type": "code",
   "execution_count": 45,
   "id": "bb86402b",
   "metadata": {},
   "outputs": [],
   "source": [
    "\n",
    "def check_price():\n",
    "    URL = \"https://www.jumia.com.ng/fashion-summer-mens-loose-short-sleeve-hawaii-beach-shirt-blue-71890063.html\"\n",
    "\n",
    "    headers = {\"User-Agent\": \"Mozilla/5.0 (Windows NT 10.0; Win64; x64) AppleWebKit/537.36 (KHTML, like Gecko) Chrome/112.0.0.0 Safari/537.36\"}\n",
    "\n",
    "    page = requests.get(URL, headers=headers)\n",
    "\n",
    "    soup1 = BeautifulSoup(page.content, \"html.parser\")\n",
    "\n",
    "    soup2 = BeautifulSoup(soup1.prettify(),\"html.parser\")\n",
    "\n",
    "\n",
    "\n",
    "    title = soup2.find( class_=\"-fs20 -pts -pbxs\").get_text()\n",
    "\n",
    "    price = soup2.find( class_=\"-b -ltr -tal -fs24\").get_text()\n",
    "\n",
    "    price = price.strip()[1:]\n",
    "\n",
    "    title = title.strip()\n",
    "    \n",
    "    import datetime\n",
    "\n",
    "    today = datetime.date.today()\n",
    "\n",
    "    import csv \n",
    "    header = [\"title\", \"price\",\"date\"]\n",
    "    data = [title,price,today]\n",
    "   \n",
    "    with open(\"JUMIA_WebScraperDataset.csv\",\"a+\", newline=\"\",encoding = \"utf8\") as f:\n",
    "        writer = csv.writer(f)\n",
    "        writer.writerow(data)\n",
    "\n",
    "        \n",
    "    "
   ]
  },
  {
   "cell_type": "code",
   "execution_count": null,
   "id": "a141fd75",
   "metadata": {},
   "outputs": [],
   "source": [
    "while(True):\n",
    "    check_price()\n",
    "    time.sleep(86400)"
   ]
  },
  {
   "cell_type": "code",
   "execution_count": null,
   "id": "6973a2fd",
   "metadata": {},
   "outputs": [],
   "source": [
    "import pandas as pd \n",
    "\n",
    "df =pd.read_csv(r\"C:\\Users\\MANUEL-PC\\JUMIA_WebScraperDataset.csv\")\n",
    "\n",
    "print(df)"
   ]
  },
  {
   "cell_type": "code",
   "execution_count": null,
   "id": "7d20edde",
   "metadata": {},
   "outputs": [],
   "source": []
  }
 ],
 "metadata": {
  "kernelspec": {
   "display_name": "Python 3 (ipykernel)",
   "language": "python",
   "name": "python3"
  },
  "language_info": {
   "codemirror_mode": {
    "name": "ipython",
    "version": 3
   },
   "file_extension": ".py",
   "mimetype": "text/x-python",
   "name": "python",
   "nbconvert_exporter": "python",
   "pygments_lexer": "ipython3",
   "version": "3.10.9"
  }
 },
 "nbformat": 4,
 "nbformat_minor": 5
}
