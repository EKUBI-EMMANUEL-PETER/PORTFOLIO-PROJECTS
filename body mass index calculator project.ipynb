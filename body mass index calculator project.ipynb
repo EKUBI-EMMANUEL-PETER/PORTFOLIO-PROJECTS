{
 "cells": [
  {
   "cell_type": "code",
   "execution_count": null,
   "id": "61c02be6",
   "metadata": {},
   "outputs": [],
   "source": [
    "#BMI CALCULATOR"
   ]
  },
  {
   "cell_type": "code",
   "execution_count": 12,
   "id": "cdfbbfc0",
   "metadata": {},
   "outputs": [
    {
     "name": "stdout",
     "output_type": "stream",
     "text": [
      "enter your name: emmanuel\n",
      "enter your weight in pounds :200\n",
      "enter your height in inches79\n",
      "YOUR BMI IS  22.528440954975164\n",
      "emmanuel ,you have a normal weight\n"
     ]
    }
   ],
   "source": [
    "name = input(\"enter your name: \")\n",
    "\n",
    "weight = int(input(\"enter your weight in pounds :\"))\n",
    "\n",
    "height = int(input(\"enter your height in inches\"))\n",
    "\n",
    "BMI = (weight * 703) / (height * height)\n",
    "\n",
    "print(\"YOUR BMI IS \", BMI)\n",
    "\n",
    "if BMI>0:\n",
    "    if(BMI<18.5):\n",
    "        print(name + \" ,you are underweight\")\n",
    "    elif(BMI<=24.9):\n",
    "        print(name +\" ,you have a normal weight\")\n",
    "    elif(BMI<=29.9):\n",
    "        print(name +\" ,you are overweight\")\n",
    "    elif(BMI<=34.9):\n",
    "        print(name +\" ,you are obese\")\n",
    "    elif(BMI<=39.9):\n",
    "        print(name +\" ,you are obese\")\n",
    "    elif(BMI<=40):\n",
    "        print(name +\" ,you are extremely obese\")\n",
    "    else:\n",
    "        print(name +\" ,enter the correct value\")"
   ]
  },
  {
   "cell_type": "code",
   "execution_count": null,
   "id": "4a35739f",
   "metadata": {},
   "outputs": [],
   "source": []
  },
  {
   "cell_type": "code",
   "execution_count": 11,
   "id": "2f56a01a",
   "metadata": {},
   "outputs": [
    {
     "name": "stdout",
     "output_type": "stream",
     "text": [
      "emmanuel ,you are overweight\n"
     ]
    }
   ],
   "source": [
    "if BMI>0:\n",
    "    if(BMI<18.5):\n",
    "        print(name + \" ,you are underweight\")\n",
    "    elif(BMI<=24.9):\n",
    "        print(name +\" ,you have a normal weight\")\n",
    "    elif(BMI<=29.9):\n",
    "        print(name +\" ,you are overweight\")\n",
    "    elif(BMI<=34.9):\n",
    "        print(name +\" ,you are obese\")\n",
    "    elif(BMI<=39.9):\n",
    "        print(name +\" ,you are obese\")\n",
    "    elif(BMI<=40):\n",
    "        print(name +\" ,you are extremely obese\")\n",
    "    else:\n",
    "        print(name +\" ,enter the correct value\")"
   ]
  },
  {
   "cell_type": "code",
   "execution_count": null,
   "id": "717e6903",
   "metadata": {},
   "outputs": [],
   "source": []
  }
 ],
 "metadata": {
  "kernelspec": {
   "display_name": "Python 3 (ipykernel)",
   "language": "python",
   "name": "python3"
  },
  "language_info": {
   "codemirror_mode": {
    "name": "ipython",
    "version": 3
   },
   "file_extension": ".py",
   "mimetype": "text/x-python",
   "name": "python",
   "nbconvert_exporter": "python",
   "pygments_lexer": "ipython3",
   "version": "3.10.9"
  }
 },
 "nbformat": 4,
 "nbformat_minor": 5
}
